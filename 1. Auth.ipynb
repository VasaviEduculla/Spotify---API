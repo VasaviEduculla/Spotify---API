{
 "cells": [
  {
   "cell_type": "code",
   "execution_count": 1,
   "metadata": {},
   "outputs": [],
   "source": [
    "import requests\n",
    "import base64\n",
    "import datetime"
   ]
  },
  {
   "cell_type": "code",
   "execution_count": 2,
   "metadata": {},
   "outputs": [],
   "source": [
    "client_id=\"\"\n",
    "client_secret=\"\""
   ]
  },
  {
   "cell_type": "code",
   "execution_count": 3,
   "metadata": {},
   "outputs": [],
   "source": [
    "client_creds=f\"{client_id}:{client_secret}\""
   ]
  },
  {
   "cell_type": "code",
   "execution_count": 4,
   "metadata": {},
   "outputs": [
    {
     "name": "stdout",
     "output_type": "stream",
     "text": [
      "b'OGM2NTQ4MTU1ODI5NDQ1YmIzZmZiM2UyNmNmM2E1MDE6MTVkODUxMTc2NDgwNDg0OWJhMTM4MTc1OGI1MDI3MzM='\n",
      "<class 'bytes'>\n"
     ]
    }
   ],
   "source": [
    "client_creds_b64=base64.b64encode(client_creds.encode())\n",
    "print(client_creds_b64)\n",
    "print(type(client_creds_b64))"
   ]
  },
  {
   "cell_type": "code",
   "execution_count": 5,
   "metadata": {},
   "outputs": [],
   "source": [
    "base_url=\"https://accounts.spotify.com/api/token\"\n",
    "method='post'\n",
    "token_data={\"grant_type\":\"client_credentials\"}\n",
    "token_header={\"Authorization\":f\"Basic {client_creds_b64.decode()}\"}  #Basic <base64 encoded client_id:client_secret>"
   ]
  },
  {
   "cell_type": "code",
   "execution_count": 6,
   "metadata": {},
   "outputs": [],
   "source": [
    "#to get the original client id and secret\n",
    "#base64.b64decode(client_creds_b64)"
   ]
  },
  {
   "cell_type": "code",
   "execution_count": 7,
   "metadata": {},
   "outputs": [],
   "source": [
    "r=requests.post(base_url,data=token_data,headers=token_header)"
   ]
  },
  {
   "cell_type": "code",
   "execution_count": 8,
   "metadata": {},
   "outputs": [],
   "source": [
    "if r.status_code in range(200,299):\n",
    "    token_response_data=r.json()\n",
    "    now=datetime.datetime.now()\n",
    "    access_token=token_response_data[\"access_token\"]\n",
    "    expires_in = token_response_data[\"expires_in\"] #seconds\n",
    "    expires = now + datetime.timedelta(seconds=expires_in)\n",
    "    did_expire = expires < now"
   ]
  },
  {
   "cell_type": "code",
   "execution_count": null,
   "metadata": {},
   "outputs": [],
   "source": []
  }
 ],
 "metadata": {
  "kernelspec": {
   "display_name": "Python 3",
   "language": "python",
   "name": "python3"
  },
  "language_info": {
   "codemirror_mode": {
    "name": "ipython",
    "version": 3
   },
   "file_extension": ".py",
   "mimetype": "text/x-python",
   "name": "python",
   "nbconvert_exporter": "python",
   "pygments_lexer": "ipython3",
   "version": "3.7.4"
  }
 },
 "nbformat": 4,
 "nbformat_minor": 2
}
