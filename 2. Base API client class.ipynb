{
 "cells": [
  {
   "cell_type": "code",
   "execution_count": 1,
   "metadata": {},
   "outputs": [],
   "source": [
    "import requests\n",
    "import base64\n",
    "import datetime"
   ]
  },
  {
   "cell_type": "code",
   "execution_count": 2,
   "metadata": {},
   "outputs": [],
   "source": [
    "client_id=\"8c6548155829445bb3ffb3e26cf3a501\"\n",
    "client_secret=\"15d8511764804849ba1381758b502733\""
   ]
  },
  {
   "cell_type": "code",
   "execution_count": 20,
   "metadata": {},
   "outputs": [],
   "source": [
    "class SpotifyAPI(object):\n",
    "    access_token=None\n",
    "    access_token_expires=datetime.datetime.now()\n",
    "    access_token_did_expire=True\n",
    "    client_id=None\n",
    "    client_secret=None\n",
    "    base_url=\"https://accounts.spotify.com/api/token\"\n",
    "    \n",
    "    def __init__(self,client_id,client_secret,*args,**kwargs):\n",
    "        self.client_id=client_id\n",
    "        self.client_secret=client_secret\n",
    "    \n",
    "    def get_client_credentials(self):\n",
    "        client_id=self.client_id\n",
    "        client_secret=self.client_secret\n",
    "        if client_secret == None or client_id == None:\n",
    "            raise Exception (\" Please set client_id and client_secret\")\n",
    "            \n",
    "        \"returns as base64\"\n",
    "        client_creds=f\"{client_id}:{client_secret}\"\n",
    "        client_creds_b64=base64.b64encode(client_creds.encode())\n",
    "        return client_creds_b64.decode()\n",
    "        \n",
    "    def get_token_header(self):\n",
    "        client_creds_b64=self.get_client_credentials()\n",
    "        return {\"Authorization\":f\"Basic {client_creds_b64}\"}\n",
    "    \n",
    "    def get_token_data(self):\n",
    "        return {\"grant_type\":\"client_credentials\"}\n",
    "    \n",
    "    def perform_auth(self):\n",
    "        base_url=self.base_url\n",
    "        token_data=self.get_token_data()\n",
    "        token_header=self.get_token_header()\n",
    "        r=requests.post(base_url,data=token_data,headers=token_header)\n",
    "        \n",
    "        if r.status_code not in range(200,299):\n",
    "            return False\n",
    "        token_response_data=r.json()\n",
    "        now=datetime.datetime.now()\n",
    "        access_token=token_response_data[\"access_token\"]\n",
    "        self.access_token=access_token\n",
    "        expires_in = token_response_data[\"expires_in\"] #seconds\n",
    "        expires = now + datetime.timedelta(seconds=expires_in)\n",
    "        did_expire = expires < now\n",
    "        return True\n",
    "        \n",
    "     "
   ]
  },
  {
   "cell_type": "code",
   "execution_count": 26,
   "metadata": {},
   "outputs": [],
   "source": [
    "spotify=SpotifyAPI(client_id,client_secret)"
   ]
  },
  {
   "cell_type": "code",
   "execution_count": 27,
   "metadata": {},
   "outputs": [
    {
     "data": {
      "text/plain": [
       "True"
      ]
     },
     "execution_count": 27,
     "metadata": {},
     "output_type": "execute_result"
    }
   ],
   "source": [
    "spotify.perform_auth()"
   ]
  },
  {
   "cell_type": "code",
   "execution_count": 28,
   "metadata": {},
   "outputs": [
    {
     "data": {
      "text/plain": [
       "'BQD0i28dCoNH5n6dN1d2heOLh0TdM9FO43claKEd98NVp0P1aTuaRbl7Ucph9ri0Nruq8M8m-VJVSPQw6tw'"
      ]
     },
     "execution_count": 28,
     "metadata": {},
     "output_type": "execute_result"
    }
   ],
   "source": [
    "spotify.access_token"
   ]
  },
  {
   "cell_type": "code",
   "execution_count": null,
   "metadata": {},
   "outputs": [],
   "source": []
  }
 ],
 "metadata": {
  "kernelspec": {
   "display_name": "Python 3",
   "language": "python",
   "name": "python3"
  },
  "language_info": {
   "codemirror_mode": {
    "name": "ipython",
    "version": 3
   },
   "file_extension": ".py",
   "mimetype": "text/x-python",
   "name": "python",
   "nbconvert_exporter": "python",
   "pygments_lexer": "ipython3",
   "version": "3.7.4"
  }
 },
 "nbformat": 4,
 "nbformat_minor": 2
}
