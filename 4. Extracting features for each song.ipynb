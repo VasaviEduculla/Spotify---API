{
 "cells": [
  {
   "cell_type": "code",
   "execution_count": 1,
   "metadata": {},
   "outputs": [],
   "source": [
    "import requests\n",
    "import base64\n",
    "import datetime\n",
    "from urllib.parse import urlencode\n",
    "import pprint\n",
    "import pandas as pd"
   ]
  },
  {
   "cell_type": "code",
   "execution_count": 2,
   "metadata": {},
   "outputs": [],
   "source": [
    "client_id=\"8c6548155829445bb3ffb3e26cf3a501\"\n",
    "client_secret=\"15d8511764804849ba1381758b502733\""
   ]
  },
  {
   "cell_type": "code",
   "execution_count": 3,
   "metadata": {},
   "outputs": [],
   "source": [
    "class SpotifyAPI(object):\n",
    "    access_token=None\n",
    "    access_token_expires=datetime.datetime.now()\n",
    "    access_token_did_expire=True\n",
    "    client_id=None\n",
    "    client_secret=None\n",
    "    base_url=\"https://accounts.spotify.com/api/token\"\n",
    "    \n",
    "    def __init__(self,client_id,client_secret,*args,**kwargs):\n",
    "        self.client_id=client_id\n",
    "        self.client_secret=client_secret\n",
    "    \n",
    "    def get_client_credentials(self):\n",
    "        client_id=self.client_id\n",
    "        client_secret=self.client_secret\n",
    "        if client_secret == None or client_id == None:\n",
    "            raise Exception (\" Please set client_id and client_secret\")\n",
    "            \n",
    "        \"returns as base64\"\n",
    "        client_creds=f\"{client_id}:{client_secret}\"\n",
    "        client_creds_b64=base64.b64encode(client_creds.encode())\n",
    "        return client_creds_b64.decode()\n",
    "        \n",
    "    def get_token_header(self):\n",
    "        client_creds_b64=self.get_client_credentials()\n",
    "        return {\"Authorization\":f\"Basic {client_creds_b64}\"}\n",
    "    \n",
    "    def get_token_data(self):\n",
    "        return {\"grant_type\":\"client_credentials\"}\n",
    "    \n",
    "    def perform_auth(self):\n",
    "        base_url=self.base_url\n",
    "        token_data=self.get_token_data()\n",
    "        token_header=self.get_token_header()\n",
    "        r=requests.post(base_url,data=token_data,headers=token_header)\n",
    "        \n",
    "        if r.status_code not in range(200,299):\n",
    "            return False\n",
    "        token_response_data=r.json()\n",
    "        now=datetime.datetime.now()\n",
    "        access_token=token_response_data[\"access_token\"]\n",
    "        self.access_token=access_token\n",
    "        expires_in = token_response_data[\"expires_in\"] #seconds\n",
    "        expires = now + datetime.timedelta(seconds=expires_in)\n",
    "        did_expire = expires < now\n",
    "        return True"
   ]
  },
  {
   "cell_type": "code",
   "execution_count": 4,
   "metadata": {},
   "outputs": [],
   "source": [
    "spotify=SpotifyAPI(client_id,client_secret)"
   ]
  },
  {
   "cell_type": "code",
   "execution_count": 5,
   "metadata": {},
   "outputs": [
    {
     "data": {
      "text/plain": [
       "True"
      ]
     },
     "execution_count": 5,
     "metadata": {},
     "output_type": "execute_result"
    }
   ],
   "source": [
    "spotify.perform_auth()"
   ]
  },
  {
   "cell_type": "code",
   "execution_count": 6,
   "metadata": {},
   "outputs": [
    {
     "data": {
      "text/plain": [
       "'BQD66EaEI4w82YNZrHW8ApamSO80D8pIB4BbrMJxHY_hxI1GquQH_sABaK5RqKep5Qqe4qtwVNp7z3_1Ttc'"
      ]
     },
     "execution_count": 6,
     "metadata": {},
     "output_type": "execute_result"
    }
   ],
   "source": [
    "access_token=spotify.access_token\n",
    "access_token"
   ]
  },
  {
   "cell_type": "code",
   "execution_count": 7,
   "metadata": {},
   "outputs": [
    {
     "data": {
      "text/html": [
       "<div>\n",
       "<style scoped>\n",
       "    .dataframe tbody tr th:only-of-type {\n",
       "        vertical-align: middle;\n",
       "    }\n",
       "\n",
       "    .dataframe tbody tr th {\n",
       "        vertical-align: top;\n",
       "    }\n",
       "\n",
       "    .dataframe thead th {\n",
       "        text-align: right;\n",
       "    }\n",
       "</style>\n",
       "<table border=\"1\" class=\"dataframe\">\n",
       "  <thead>\n",
       "    <tr style=\"text-align: right;\">\n",
       "      <th></th>\n",
       "      <th>Name</th>\n",
       "      <th>id</th>\n",
       "      <th>Popularity</th>\n",
       "      <th>Followers</th>\n",
       "      <th>Genres</th>\n",
       "    </tr>\n",
       "  </thead>\n",
       "  <tbody>\n",
       "    <tr>\n",
       "      <th>0</th>\n",
       "      <td>Arijit Singh</td>\n",
       "      <td>4YRxDV8wJFPHPTeXepOstw</td>\n",
       "      <td>83</td>\n",
       "      <td>15618858</td>\n",
       "      <td>[desi pop, filmi, modern bollywood]</td>\n",
       "    </tr>\n",
       "    <tr>\n",
       "      <th>1</th>\n",
       "      <td>Tanishk Bagchi</td>\n",
       "      <td>4f7KfxeHq9BiylGmyXepGt</td>\n",
       "      <td>76</td>\n",
       "      <td>331471</td>\n",
       "      <td>[desi hip hop, desi pop, filmi, modern bollywood]</td>\n",
       "    </tr>\n",
       "    <tr>\n",
       "      <th>2</th>\n",
       "      <td>Neha Kakkar</td>\n",
       "      <td>5f4QpKfy7ptCHwTqspnSJI</td>\n",
       "      <td>76</td>\n",
       "      <td>10637030</td>\n",
       "      <td>[desi hip hop, desi pop, filmi, modern bollywood]</td>\n",
       "    </tr>\n",
       "    <tr>\n",
       "      <th>3</th>\n",
       "      <td>Badshah</td>\n",
       "      <td>0y59o4v8uw5crbN9M3JiL1</td>\n",
       "      <td>75</td>\n",
       "      <td>7389686</td>\n",
       "      <td>[desi hip hop, desi pop, haryanvi pop, modern ...</td>\n",
       "    </tr>\n",
       "    <tr>\n",
       "      <th>4</th>\n",
       "      <td>Shreya Ghoshal</td>\n",
       "      <td>0oOet2f43PA68X5RxKobEy</td>\n",
       "      <td>74</td>\n",
       "      <td>4440538</td>\n",
       "      <td>[desi hip hop, desi pop, filmi, modern bollywo...</td>\n",
       "    </tr>\n",
       "  </tbody>\n",
       "</table>\n",
       "</div>"
      ],
      "text/plain": [
       "             Name                      id Popularity Followers  \\\n",
       "0    Arijit Singh  4YRxDV8wJFPHPTeXepOstw         83  15618858   \n",
       "1  Tanishk Bagchi  4f7KfxeHq9BiylGmyXepGt         76    331471   \n",
       "2     Neha Kakkar  5f4QpKfy7ptCHwTqspnSJI         76  10637030   \n",
       "3         Badshah  0y59o4v8uw5crbN9M3JiL1         75   7389686   \n",
       "4  Shreya Ghoshal  0oOet2f43PA68X5RxKobEy         74   4440538   \n",
       "\n",
       "                                              Genres  \n",
       "0                [desi pop, filmi, modern bollywood]  \n",
       "1  [desi hip hop, desi pop, filmi, modern bollywood]  \n",
       "2  [desi hip hop, desi pop, filmi, modern bollywood]  \n",
       "3  [desi hip hop, desi pop, haryanvi pop, modern ...  \n",
       "4  [desi hip hop, desi pop, filmi, modern bollywo...  "
      ]
     },
     "execution_count": 7,
     "metadata": {},
     "output_type": "execute_result"
    }
   ],
   "source": [
    "artists=[\"Arijit Singh\",\"Tanishk Bagchi\",\"Neha Kakkar\",\"Badshah\",\"Shreya ghoshal\"]\n",
    "artist_details=pd.DataFrame(columns=[\"Name\",\"id\",\"Popularity\",\"Followers\",\"Genres\"])\n",
    "\n",
    "for i in artists:\n",
    "    endpoint=\"https://api.spotify.com/v1/search\"\n",
    "    headers={\"Authorization\":f\"Bearer {access_token}\"}\n",
    "    data=urlencode({\"q\":i,\"type\":\"artist\",\"market\":\"IN\",\"offset\":0})\n",
    "    lookup_url=f\"{endpoint}?{data}\"\n",
    "    r=requests.get(lookup_url,headers=headers)\n",
    "    result=r.json()\n",
    "    output=result['artists'][\"items\"][0]\n",
    "    position=len(artist_details)\n",
    "    artist_details.loc[position]=[output[\"name\"],output[\"id\"],output[\"popularity\"],output[\"followers\"][\"total\"],output[\"genres\"]]\n",
    "\n",
    "artist_details"
   ]
  },
  {
   "cell_type": "code",
   "execution_count": 8,
   "metadata": {},
   "outputs": [],
   "source": [
    "def every_artist(id):\n",
    "    albums_url=f\"https://api.spotify.com/v1/artists/{id}/albums\"\n",
    "    headers={\"Authorization\":f\"Bearer {access_token}\"}\n",
    "    data=urlencode({\"include_groups\":\"album,single\",\"market\":\"IN\",\"limit\":50}) #50 is the max limit\n",
    "    lookup_url=f\"{albums_url}?{data}\"\n",
    "    r=requests.get(lookup_url,headers=headers)\n",
    "    if r.status_code in range(200,299):\n",
    "        album_details=r.json()[\"items\"]\n",
    "        return album_details\n",
    "    return False\n"
   ]
  },
  {
   "cell_type": "code",
   "execution_count": 9,
   "metadata": {},
   "outputs": [],
   "source": [
    "def every_track(album_id):\n",
    "    endpoint=f\"https://api.spotify.com/v1/albums/{album_id}/tracks\"\n",
    "    headers={\"Authorization\":f\"Bearer {access_token}\"}\n",
    "    data=urlencode({\"market\":\"IN\",\"limit\":50}) #50 is the max limit\n",
    "    lookup_url=f\"{endpoint}?{data}\"\n",
    "    r=requests.get(lookup_url,headers=headers)\n",
    "    if r.status_code in range(200,299):\n",
    "        track_details=r.json()[\"items\"]\n",
    "        return track_details\n",
    "    return False"
   ]
  },
  {
   "cell_type": "code",
   "execution_count": 10,
   "metadata": {},
   "outputs": [],
   "source": [
    "def each_track_features(track_id,track_features):\n",
    "    track_endpoint=f\"https://api.spotify.com/v1/audio-features/{track_id}\"\n",
    "    headers={\"Authorization\":f\"Bearer {access_token}\"}\n",
    "    r=requests.get(track_endpoint,headers=headers)\n",
    "    if r.status_code in range(200,299):\n",
    "        data=r.json()\n",
    "        cols=['danceability','energy','loudness','mode','speechiness','acousticness','instrumentalness','liveness','valence','tempo','duration_ms','time_signature']\n",
    "        for col in cols:\n",
    "            track_features.append(data[col])\n",
    "        return track_features\n",
    "    return False"
   ]
  },
  {
   "cell_type": "code",
   "execution_count": 11,
   "metadata": {},
   "outputs": [],
   "source": [
    "all_cols=[\"Artist ID\",\"Artist name\",\"Album ID\",\"Album name\",\"Album release date\",\"Track ID\",\"Track name\",'danceability','energy','loudness','mode','speechiness','acousticness','instrumentalness','liveness','valence','tempo','duration_ms','time_signature']\n",
    "cumilated=pd.DataFrame(columns=all_cols)"
   ]
  },
  {
   "cell_type": "code",
   "execution_count": 12,
   "metadata": {},
   "outputs": [
    {
     "data": {
      "text/plain": [
       "855"
      ]
     },
     "execution_count": 12,
     "metadata": {},
     "output_type": "execute_result"
    }
   ],
   "source": [
    "count=0\n",
    "for name,artist_id in zip(artist_details[\"Name\"],artist_details[\"id\"]):\n",
    "    album_details=every_artist(artist_id)\n",
    "    for j in range(len(album_details)):\n",
    "        album=album_details[j]\n",
    "        album_id=album[\"id\"]\n",
    "        track_details=every_track(album_id)\n",
    "        for k in range(len(track_details)):\n",
    "            count=count+1\n",
    "            track_features=[]\n",
    "            track=track_details[k]\n",
    "            track_id=track[\"id\"]\n",
    "            track_features=[artist_id,name,album[\"id\"],album[\"name\"],album[\"release_date\"],track[\"id\"],track[\"name\"]]\n",
    "            features=each_track_features(track_id,track_features) \n",
    "            position=len(cumilated)\n",
    "            cumilated.loc[position]=features\n",
    "count            "
   ]
  },
  {
   "cell_type": "code",
   "execution_count": 13,
   "metadata": {},
   "outputs": [],
   "source": [
    "cumilated.to_csv(\"artists_indian.csv\", sep = ',')"
   ]
  }
 ],
 "metadata": {
  "kernelspec": {
   "display_name": "Python 3",
   "language": "python",
   "name": "python3"
  },
  "language_info": {
   "codemirror_mode": {
    "name": "ipython",
    "version": 3
   },
   "file_extension": ".py",
   "mimetype": "text/x-python",
   "name": "python",
   "nbconvert_exporter": "python",
   "pygments_lexer": "ipython3",
   "version": "3.7.4"
  }
 },
 "nbformat": 4,
 "nbformat_minor": 2
}
