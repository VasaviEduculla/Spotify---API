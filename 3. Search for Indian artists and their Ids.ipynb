{
 "cells": [
  {
   "cell_type": "code",
   "execution_count": 70,
   "metadata": {},
   "outputs": [],
   "source": [
    "import requests\n",
    "import base64\n",
    "import datetime\n",
    "from urllib.parse import urlencode\n",
    "import pprint\n",
    "import pandas as pd"
   ]
  },
  {
   "cell_type": "code",
   "execution_count": 21,
   "metadata": {},
   "outputs": [],
   "source": [
    "client_id=\"8c6548155829445bb3ffb3e26cf3a501\"\n",
    "client_secret=\"15d8511764804849ba1381758b502733\""
   ]
  },
  {
   "cell_type": "code",
   "execution_count": 22,
   "metadata": {},
   "outputs": [],
   "source": [
    "class SpotifyAPI(object):\n",
    "    access_token=None\n",
    "    access_token_expires=datetime.datetime.now()\n",
    "    access_token_did_expire=True\n",
    "    client_id=None\n",
    "    client_secret=None\n",
    "    base_url=\"https://accounts.spotify.com/api/token\"\n",
    "    \n",
    "    def __init__(self,client_id,client_secret,*args,**kwargs):\n",
    "        self.client_id=client_id\n",
    "        self.client_secret=client_secret\n",
    "    \n",
    "    def get_client_credentials(self):\n",
    "        client_id=self.client_id\n",
    "        client_secret=self.client_secret\n",
    "        if client_secret == None or client_id == None:\n",
    "            raise Exception (\" Please set client_id and client_secret\")\n",
    "            \n",
    "        \"returns as base64\"\n",
    "        client_creds=f\"{client_id}:{client_secret}\"\n",
    "        client_creds_b64=base64.b64encode(client_creds.encode())\n",
    "        return client_creds_b64.decode()\n",
    "        \n",
    "    def get_token_header(self):\n",
    "        client_creds_b64=self.get_client_credentials()\n",
    "        return {\"Authorization\":f\"Basic {client_creds_b64}\"}\n",
    "    \n",
    "    def get_token_data(self):\n",
    "        return {\"grant_type\":\"client_credentials\"}\n",
    "    \n",
    "    def perform_auth(self):\n",
    "        base_url=self.base_url\n",
    "        token_data=self.get_token_data()\n",
    "        token_header=self.get_token_header()\n",
    "        r=requests.post(base_url,data=token_data,headers=token_header)\n",
    "        \n",
    "        if r.status_code not in range(200,299):\n",
    "            return False\n",
    "        token_response_data=r.json()\n",
    "        now=datetime.datetime.now()\n",
    "        access_token=token_response_data[\"access_token\"]\n",
    "        self.access_token=access_token\n",
    "        expires_in = token_response_data[\"expires_in\"] #seconds\n",
    "        expires = now + datetime.timedelta(seconds=expires_in)\n",
    "        did_expire = expires < now\n",
    "        return True\n",
    "        \n",
    "     "
   ]
  },
  {
   "cell_type": "code",
   "execution_count": 23,
   "metadata": {},
   "outputs": [],
   "source": [
    "spotify=SpotifyAPI(client_id,client_secret)"
   ]
  },
  {
   "cell_type": "code",
   "execution_count": 24,
   "metadata": {},
   "outputs": [
    {
     "data": {
      "text/plain": [
       "True"
      ]
     },
     "execution_count": 24,
     "metadata": {},
     "output_type": "execute_result"
    }
   ],
   "source": [
    "spotify.perform_auth()"
   ]
  },
  {
   "cell_type": "code",
   "execution_count": 25,
   "metadata": {},
   "outputs": [
    {
     "data": {
      "text/plain": [
       "'BQCjElT9IaMuaNcfxteeZRw2pjdHR4siNIhowHDhZnOw7WUnxswG-20GtljgJIfo6pD8oeSndApiWd8T3Xs'"
      ]
     },
     "execution_count": 25,
     "metadata": {},
     "output_type": "execute_result"
    }
   ],
   "source": [
    "access_token=spotify.access_token\n",
    "access_token"
   ]
  },
  {
   "cell_type": "code",
   "execution_count": 78,
   "metadata": {},
   "outputs": [
    {
     "data": {
      "text/html": [
       "<div>\n",
       "<style scoped>\n",
       "    .dataframe tbody tr th:only-of-type {\n",
       "        vertical-align: middle;\n",
       "    }\n",
       "\n",
       "    .dataframe tbody tr th {\n",
       "        vertical-align: top;\n",
       "    }\n",
       "\n",
       "    .dataframe thead th {\n",
       "        text-align: right;\n",
       "    }\n",
       "</style>\n",
       "<table border=\"1\" class=\"dataframe\">\n",
       "  <thead>\n",
       "    <tr style=\"text-align: right;\">\n",
       "      <th></th>\n",
       "      <th>Name</th>\n",
       "      <th>id</th>\n",
       "      <th>Popularity</th>\n",
       "      <th>Followers</th>\n",
       "      <th>Genres</th>\n",
       "    </tr>\n",
       "  </thead>\n",
       "  <tbody>\n",
       "    <tr>\n",
       "      <th>0</th>\n",
       "      <td>Arijit Singh</td>\n",
       "      <td>4YRxDV8wJFPHPTeXepOstw</td>\n",
       "      <td>83</td>\n",
       "      <td>15590950</td>\n",
       "      <td>[desi pop, filmi, modern bollywood]</td>\n",
       "    </tr>\n",
       "    <tr>\n",
       "      <th>1</th>\n",
       "      <td>Tanishk Bagchi</td>\n",
       "      <td>4f7KfxeHq9BiylGmyXepGt</td>\n",
       "      <td>76</td>\n",
       "      <td>330764</td>\n",
       "      <td>[desi hip hop, desi pop, filmi, modern bollywood]</td>\n",
       "    </tr>\n",
       "    <tr>\n",
       "      <th>2</th>\n",
       "      <td>Neha Kakkar</td>\n",
       "      <td>5f4QpKfy7ptCHwTqspnSJI</td>\n",
       "      <td>76</td>\n",
       "      <td>10619019</td>\n",
       "      <td>[desi hip hop, desi pop, filmi, modern bollywood]</td>\n",
       "    </tr>\n",
       "    <tr>\n",
       "      <th>3</th>\n",
       "      <td>Badshah</td>\n",
       "      <td>0y59o4v8uw5crbN9M3JiL1</td>\n",
       "      <td>75</td>\n",
       "      <td>7377134</td>\n",
       "      <td>[desi hip hop, desi pop, haryanvi pop, modern ...</td>\n",
       "    </tr>\n",
       "    <tr>\n",
       "      <th>4</th>\n",
       "      <td>Shreya Ghoshal</td>\n",
       "      <td>0oOet2f43PA68X5RxKobEy</td>\n",
       "      <td>74</td>\n",
       "      <td>4434266</td>\n",
       "      <td>[desi hip hop, desi pop, filmi, modern bollywo...</td>\n",
       "    </tr>\n",
       "  </tbody>\n",
       "</table>\n",
       "</div>"
      ],
      "text/plain": [
       "             Name                      id Popularity Followers  \\\n",
       "0    Arijit Singh  4YRxDV8wJFPHPTeXepOstw         83  15590950   \n",
       "1  Tanishk Bagchi  4f7KfxeHq9BiylGmyXepGt         76    330764   \n",
       "2     Neha Kakkar  5f4QpKfy7ptCHwTqspnSJI         76  10619019   \n",
       "3         Badshah  0y59o4v8uw5crbN9M3JiL1         75   7377134   \n",
       "4  Shreya Ghoshal  0oOet2f43PA68X5RxKobEy         74   4434266   \n",
       "\n",
       "                                              Genres  \n",
       "0                [desi pop, filmi, modern bollywood]  \n",
       "1  [desi hip hop, desi pop, filmi, modern bollywood]  \n",
       "2  [desi hip hop, desi pop, filmi, modern bollywood]  \n",
       "3  [desi hip hop, desi pop, haryanvi pop, modern ...  \n",
       "4  [desi hip hop, desi pop, filmi, modern bollywo...  "
      ]
     },
     "execution_count": 78,
     "metadata": {},
     "output_type": "execute_result"
    }
   ],
   "source": [
    "artists=[\"Arijit Singh\",\"Tanishk Bagchi\",\"Neha Kakkar\",\"Badshah\",\"Shreya ghoshal\"]\n",
    "artist_details=pd.DataFrame(columns=[\"Name\",\"id\",\"Popularity\",\"Followers\",\"Genres\"])\n",
    "\n",
    "for i in artists:\n",
    "    endpoint=\"https://api.spotify.com/v1/search\"\n",
    "    headers={\"Authorization\":f\"Bearer {access_token}\"}\n",
    "    data=urlencode({\"q\":i,\"type\":\"artist\",\"market\":\"IN\",\"offset\":0,\"limit\":50})\n",
    "    lookup_url=f\"{endpoint}?{data}\"\n",
    "    r=requests.get(lookup_url,headers=headers)\n",
    "    result=r.json()\n",
    "    output=result['artists'][\"items\"][0]\n",
    "    position=len(artist_details)\n",
    "    artist_details.loc[position]=[output[\"name\"],output[\"id\"],output[\"popularity\"],output[\"followers\"][\"total\"],output[\"genres\"]]\n",
    "\n",
    "artist_details"
   ]
  },
  {
   "cell_type": "code",
   "execution_count": 79,
   "metadata": {},
   "outputs": [
    {
     "name": "stdout",
     "output_type": "stream",
     "text": [
      "<class 'pandas.core.frame.DataFrame'>\n",
      "Int64Index: 5 entries, 0 to 4\n",
      "Data columns (total 5 columns):\n",
      " #   Column      Non-Null Count  Dtype \n",
      "---  ------      --------------  ----- \n",
      " 0   Name        5 non-null      object\n",
      " 1   id          5 non-null      object\n",
      " 2   Popularity  5 non-null      object\n",
      " 3   Followers   5 non-null      object\n",
      " 4   Genres      5 non-null      object\n",
      "dtypes: object(5)\n",
      "memory usage: 240.0+ bytes\n"
     ]
    }
   ],
   "source": [
    "artist_details.info()"
   ]
  },
  {
   "cell_type": "code",
   "execution_count": null,
   "metadata": {},
   "outputs": [],
   "source": []
  }
 ],
 "metadata": {
  "kernelspec": {
   "display_name": "Python 3",
   "language": "python",
   "name": "python3"
  },
  "language_info": {
   "codemirror_mode": {
    "name": "ipython",
    "version": 3
   },
   "file_extension": ".py",
   "mimetype": "text/x-python",
   "name": "python",
   "nbconvert_exporter": "python",
   "pygments_lexer": "ipython3",
   "version": "3.7.4"
  }
 },
 "nbformat": 4,
 "nbformat_minor": 2
}
